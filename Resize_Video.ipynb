{
  "nbformat": 4,
  "nbformat_minor": 0,
  "metadata": {
    "colab": {
      "provenance": [],
      "authorship_tag": "ABX9TyMy2Vdrj7cyTRONr9bWMeK7",
      "include_colab_link": true
    },
    "kernelspec": {
      "name": "python3",
      "display_name": "Python 3"
    },
    "language_info": {
      "name": "python"
    }
  },
  "cells": [
    {
      "cell_type": "markdown",
      "metadata": {
        "id": "view-in-github",
        "colab_type": "text"
      },
      "source": [
        "<a href=\"https://colab.research.google.com/github/Luckynirwan12/Resize-Video/blob/main/Resize_Video.ipynb\" target=\"_parent\"><img src=\"https://colab.research.google.com/assets/colab-badge.svg\" alt=\"Open In Colab\"/></a>"
      ]
    },
    {
      "cell_type": "markdown",
      "source": [
        "## **Resize the Colored Video to 50% (smaller)\" using OpenCV**"
      ],
      "metadata": {
        "id": "lF1Ft_prlwOV"
      }
    },
    {
      "cell_type": "code",
      "execution_count": 1,
      "metadata": {
        "colab": {
          "base_uri": "https://localhost:8080/"
        },
        "id": "Y_uXLBHIk4l3",
        "outputId": "6e18f6d8-cad3-42b6-9e96-5d75bae04b86"
      },
      "outputs": [
        {
          "output_type": "stream",
          "name": "stdout",
          "text": [
            "🔄 Resizing video to 50%...\n",
            "✅ Resizing complete. Output saved as: resized_video.mp4\n"
          ]
        }
      ],
      "source": [
        "import cv2\n",
        "\n",
        "# File paths\n",
        "input_video_path = 'input_video.mp4'         # 🔁 Replace with your input video file\n",
        "output_video_path = 'resized_video.mp4'      # 🎥 Output file\n",
        "\n",
        "# Open the input video\n",
        "cap = cv2.VideoCapture(input_video_path)\n",
        "\n",
        "# Check if video opened successfully\n",
        "if not cap.isOpened():\n",
        "    print(\"❌ Error: Could not open video.\")\n",
        "    exit()\n",
        "\n",
        "# Get original video properties\n",
        "original_width = int(cap.get(cv2.CAP_PROP_FRAME_WIDTH))\n",
        "original_height = int(cap.get(cv2.CAP_PROP_FRAME_HEIGHT))\n",
        "fps = cap.get(cv2.CAP_PROP_FPS)\n",
        "\n",
        "# Calculate new dimensions (50% of original)\n",
        "new_width = original_width // 2\n",
        "new_height = original_height // 2\n",
        "\n",
        "# Define codec and create VideoWriter object\n",
        "fourcc = cv2.VideoWriter_fourcc(*'mp4v')  # Use 'XVID' for AVI files\n",
        "out = cv2.VideoWriter(output_video_path, fourcc, fps, (new_width, new_height))\n",
        "\n",
        "print(\"🔄 Resizing video to 50%...\")\n",
        "\n",
        "# Process and write frames\n",
        "while True:\n",
        "    ret, frame = cap.read()\n",
        "    if not ret:\n",
        "        break\n",
        "\n",
        "    # Resize the frame to 50%\n",
        "    resized_frame = cv2.resize(frame, (new_width, new_height))\n",
        "\n",
        "    # Write the resized frame\n",
        "    out.write(resized_frame)\n",
        "\n",
        "# Release resources\n",
        "cap.release()\n",
        "out.release()\n",
        "\n",
        "print(\"✅ Resizing complete. Output saved as:\", output_video_path)\n"
      ]
    }
  ]
}